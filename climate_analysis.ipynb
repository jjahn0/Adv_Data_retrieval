{
 "cells": [
  {
   "cell_type": "code",
   "execution_count": 2,
   "metadata": {},
   "outputs": [],
   "source": [
    "import sqlalchemy\n",
    "from sqlalchemy import func\n",
    "from sqlalchemy import create_engine, MetaData\n",
    "from sqlalchemy.ext.declarative import declarative_base\n",
    "from sqlalchemy.ext.automap import automap_base\n",
    "from sqlalchemy import Column, Integer, String, Float\n",
    "import csv, sqlite3\n",
    "from sqlite3 import Error\n",
    "\n",
    "import pymysql\n",
    "pymysql.install_as_MySQLdb()\n",
    "from sqlalchemy.orm import Session, sessionmaker\n",
    "import pandas as pd\n",
    "import numpy as np\n",
    "import matplotlib.pyplot as plt\n",
    "import matplotlib.dates as mad\n",
    "from datetime import datetime\n",
    "import os"
   ]
  },
  {
   "cell_type": "code",
   "execution_count": 3,
   "metadata": {},
   "outputs": [],
   "source": [
    "engine = create_engine(\"sqlite:///hawaii.sqlite\")\n",
    "connection = engine.connect()"
   ]
  },
  {
   "cell_type": "code",
   "execution_count": 4,
   "metadata": {},
   "outputs": [],
   "source": [
    "# def create_connection(db_file):\n",
    "#     try:\n",
    "#         conn = sqlite3.connect(db_file)\n",
    "#         print(sqlite3.version)\n",
    "#     except Error as e:\n",
    "#         print(e)\n",
    "#     finally:\n",
    "#         conn.close()"
   ]
  },
  {
   "cell_type": "code",
   "execution_count": 5,
   "metadata": {},
   "outputs": [],
   "source": [
    "# sqlfile = \"sqlite:///hawaii.sqlite\"\n",
    "# if __name__ == '__main__':\n",
    "#     create_connection(sqlfile)"
   ]
  },
  {
   "cell_type": "code",
   "execution_count": 6,
   "metadata": {},
   "outputs": [],
   "source": [
    "Base = automap_base()\n",
    "\n",
    "class Measurement(Base):\n",
    "    __tablename__ = 'measurements'\n",
    "    __table_args__ = {'sqlite_autoincrement':True}\n",
    "    \n",
    "    id = Column(Integer, primary_key=True)\n",
    "    station = Column(String(50))\n",
    "    date = Column(String(50))\n",
    "    precipitation = Column(Integer)\n",
    "    temperature = Column(Integer)\n",
    "\n",
    "\n",
    "class Station(Base):\n",
    "    __tablename__ = 'stations'\n",
    "    __table_args__ = {'sqlite_autoincrement':True}\n",
    "    \n",
    "    id = Column(Integer, primary_key=True)\n",
    "    station = Column(String(50))\n",
    "    name = Column(String(50))\n",
    "    latitude = Column(Integer)\n",
    "    longitude = Column(Integer)\n",
    "    elevation = Column(Integer)\n",
    "\n",
    "Base.prepare(engine, reflect = True)"
   ]
  },
  {
   "cell_type": "code",
   "execution_count": 7,
   "metadata": {},
   "outputs": [],
   "source": [
    "# metadata = MetaData()\n",
    "# metadata.reflect(engine)\n",
    "# Base = automap_base(metadata=metadata)\n",
    "# Base.prepare()\n",
    "\n",
    "# Measurement = Base.classes.measurements\n",
    "# Staition = Base.classes.staitions"
   ]
  },
  {
   "cell_type": "code",
   "execution_count": 8,
   "metadata": {},
   "outputs": [],
   "source": [
    "# Base.metadata.create_all(engine)\n",
    "Session = sessionmaker(bind=engine)\n",
    "\n",
    "# later, some unit of code wants to create a\n",
    "# Session that is bound to a specific Connection\n",
    "session = Session()"
   ]
  },
  {
   "cell_type": "code",
   "execution_count": 9,
   "metadata": {},
   "outputs": [
    {
     "name": "stdout",
     "output_type": "stream",
     "text": [
      "USC00519397\tWAIKIKI 717.2, HI US\t3.0\n",
      "USC00513117\tKANEOHE 838.1, HI US\t14.6\n",
      "USC00514830\tKUALOA RANCH HEADQUARTERS 886.9, HI US\t7.0\n",
      "USC00517948\tPEARL CITY, HI US\t11.9\n",
      "USC00518838\tUPPER WAHIAWA 874.3, HI US\t306.6\n"
     ]
    }
   ],
   "source": [
    "for row in session.query(Station).limit(5).all():\n",
    "    print(\"{}\\t{}\\t{}\".format(row.station, row.name, row.elevation))"
   ]
  },
  {
   "cell_type": "code",
   "execution_count": 10,
   "metadata": {},
   "outputs": [
    {
     "name": "stdout",
     "output_type": "stream",
     "text": [
      "January 01, 2010\n",
      "January 02, 2010\n",
      "January 03, 2010\n",
      "January 04, 2010\n",
      "January 07, 2010\n"
     ]
    }
   ],
   "source": [
    "for row in session.query(Measurement).limit(5).all():\n",
    "    date = datetime.strptime(row.date, \"%Y-%m-%d\")\n",
    "    print (date.strftime(\"%B %d, %Y\"))"
   ]
  },
  {
   "cell_type": "code",
   "execution_count": 11,
   "metadata": {},
   "outputs": [],
   "source": [
    "# vaction date selection; June 1, 2018 to June 8, 2018\n",
    "\n",
    "vacation_init = \"2018-06-01\"\n",
    "vacation_end = \"2018-06-08\""
   ]
  },
  {
   "cell_type": "code",
   "execution_count": 12,
   "metadata": {},
   "outputs": [],
   "source": [
    "measurement = session.query(Measurement).all()\n",
    "station = session.query(Station).all()"
   ]
  },
  {
   "cell_type": "code",
   "execution_count": 13,
   "metadata": {},
   "outputs": [
    {
     "name": "stdout",
     "output_type": "stream",
     "text": [
      "2017-08-23\n",
      "2016-08-23\n"
     ]
    }
   ],
   "source": [
    "# query = users.select().order_by(-users.c.id.desc())[:5]\n",
    "\n",
    "last1 = session.query(Measurement.date).order_by(Measurement.date.desc())[:1]\n",
    "print (last1[0].date)\n",
    "last1_dt = datetime.strptime(last1[0].date, \"%Y-%m-%d\")\n",
    "yearago_dt = last1_dt.replace(year=last1_dt.year - 1)\n",
    "\n",
    "year_recent = yearago_dt.strftime(\"%Y-%m-%d\")\n",
    "print (yearago_dt.strftime(\"%Y-%m-%d\"))"
   ]
  },
  {
   "cell_type": "code",
   "execution_count": 14,
   "metadata": {},
   "outputs": [],
   "source": [
    "# qry = DBSession.query(User).filter(User.birthday <= '1988-01-17').filter(User.birthday >= '1985-01-17')"
   ]
  },
  {
   "cell_type": "code",
   "execution_count": 15,
   "metadata": {},
   "outputs": [],
   "source": [
    "last12_query_obj = session.query(Measurement.date, Measurement.precipitation).filter(Measurement.date >= year_recent)\n"
   ]
  },
  {
   "cell_type": "code",
   "execution_count": 16,
   "metadata": {},
   "outputs": [
    {
     "name": "stdout",
     "output_type": "stream",
     "text": [
      "2016-08-23 0.0\n",
      "2016-08-24 0.08\n",
      "2016-08-25 0.08\n",
      "2016-08-26 0.0\n",
      "2016-08-27 0.0\n",
      "2016-08-28 0.01\n",
      "2016-08-29 0.0\n",
      "2016-08-30 0.0\n",
      "2016-08-31 0.13\n",
      "2016-09-01 0.0\n"
     ]
    }
   ],
   "source": [
    "for row in last12_query_obj[:10]:\n",
    "    print (\"{} {}\".format(row.date, row.precipitation))"
   ]
  },
  {
   "cell_type": "code",
   "execution_count": 17,
   "metadata": {},
   "outputs": [],
   "source": [
    "# df = pd.read_sql_query(query.statement, engine)"
   ]
  },
  {
   "cell_type": "code",
   "execution_count": 18,
   "metadata": {},
   "outputs": [],
   "source": [
    "df = pd.read_sql(con=connection, index_col='id',sql=Measurement.__tablename__)"
   ]
  },
  {
   "cell_type": "code",
   "execution_count": 19,
   "metadata": {},
   "outputs": [
    {
     "data": {
      "text/html": [
       "<div>\n",
       "<table border=\"1\" class=\"dataframe\">\n",
       "  <thead>\n",
       "    <tr style=\"text-align: right;\">\n",
       "      <th></th>\n",
       "      <th>station</th>\n",
       "      <th>date</th>\n",
       "      <th>precipitation</th>\n",
       "      <th>temperature</th>\n",
       "    </tr>\n",
       "    <tr>\n",
       "      <th>id</th>\n",
       "      <th></th>\n",
       "      <th></th>\n",
       "      <th></th>\n",
       "      <th></th>\n",
       "    </tr>\n",
       "  </thead>\n",
       "  <tbody>\n",
       "    <tr>\n",
       "      <th>0</th>\n",
       "      <td>USC00519397</td>\n",
       "      <td>2010-01-01</td>\n",
       "      <td>0.08</td>\n",
       "      <td>65</td>\n",
       "    </tr>\n",
       "    <tr>\n",
       "      <th>1</th>\n",
       "      <td>USC00519397</td>\n",
       "      <td>2010-01-02</td>\n",
       "      <td>0.00</td>\n",
       "      <td>63</td>\n",
       "    </tr>\n",
       "    <tr>\n",
       "      <th>2</th>\n",
       "      <td>USC00519397</td>\n",
       "      <td>2010-01-03</td>\n",
       "      <td>0.00</td>\n",
       "      <td>74</td>\n",
       "    </tr>\n",
       "    <tr>\n",
       "      <th>3</th>\n",
       "      <td>USC00519397</td>\n",
       "      <td>2010-01-04</td>\n",
       "      <td>0.00</td>\n",
       "      <td>76</td>\n",
       "    </tr>\n",
       "    <tr>\n",
       "      <th>4</th>\n",
       "      <td>USC00519397</td>\n",
       "      <td>2010-01-07</td>\n",
       "      <td>0.06</td>\n",
       "      <td>70</td>\n",
       "    </tr>\n",
       "  </tbody>\n",
       "</table>\n",
       "</div>"
      ],
      "text/plain": [
       "        station        date  precipitation  temperature\n",
       "id                                                     \n",
       "0   USC00519397  2010-01-01           0.08           65\n",
       "1   USC00519397  2010-01-02           0.00           63\n",
       "2   USC00519397  2010-01-03           0.00           74\n",
       "3   USC00519397  2010-01-04           0.00           76\n",
       "4   USC00519397  2010-01-07           0.06           70"
      ]
     },
     "execution_count": 19,
     "metadata": {},
     "output_type": "execute_result"
    }
   ],
   "source": [
    "df.head()"
   ]
  },
  {
   "cell_type": "code",
   "execution_count": 39,
   "metadata": {},
   "outputs": [
    {
     "data": {
      "text/html": [
       "<div>\n",
       "<table border=\"1\" class=\"dataframe\">\n",
       "  <thead>\n",
       "    <tr style=\"text-align: right;\">\n",
       "      <th></th>\n",
       "      <th>date</th>\n",
       "      <th>precipitation</th>\n",
       "    </tr>\n",
       "  </thead>\n",
       "  <tbody>\n",
       "    <tr>\n",
       "      <th>0</th>\n",
       "      <td>2016-08-23</td>\n",
       "      <td>0.00</td>\n",
       "    </tr>\n",
       "    <tr>\n",
       "      <th>1</th>\n",
       "      <td>2016-08-24</td>\n",
       "      <td>0.08</td>\n",
       "    </tr>\n",
       "    <tr>\n",
       "      <th>2</th>\n",
       "      <td>2016-08-25</td>\n",
       "      <td>0.08</td>\n",
       "    </tr>\n",
       "    <tr>\n",
       "      <th>3</th>\n",
       "      <td>2016-08-26</td>\n",
       "      <td>0.00</td>\n",
       "    </tr>\n",
       "    <tr>\n",
       "      <th>4</th>\n",
       "      <td>2016-08-27</td>\n",
       "      <td>0.00</td>\n",
       "    </tr>\n",
       "  </tbody>\n",
       "</table>\n",
       "</div>"
      ],
      "text/plain": [
       "         date  precipitation\n",
       "0  2016-08-23           0.00\n",
       "1  2016-08-24           0.08\n",
       "2  2016-08-25           0.08\n",
       "3  2016-08-26           0.00\n",
       "4  2016-08-27           0.00"
      ]
     },
     "execution_count": 39,
     "metadata": {},
     "output_type": "execute_result"
    }
   ],
   "source": [
    "query_df = pd.read_sql_query(last12_query_obj.statement, last12_query_obj.session.bind)\n",
    "query_df.head()"
   ]
  },
  {
   "cell_type": "code",
   "execution_count": 21,
   "metadata": {},
   "outputs": [],
   "source": [
    "# import datetime\n",
    "# import numpy as np\n",
    "# import matplotlib.pyplot as plt\n",
    "# import matplotlib.dates as mdates\n",
    "# import matplotlib.cbook as cbook\n",
    "\n",
    "# years = mdates.YearLocator()   # every year\n",
    "# months = mdates.MonthLocator()  # every month\n",
    "# yearsFmt = mdates.DateFormatter('%Y')\n",
    "\n",
    "# # Load a numpy record array from yahoo csv data with fields date, open, close,\n",
    "# # volume, adj_close from the mpl-data/example directory. The record array\n",
    "# # stores the date as an np.datetime64 with a day unit ('D') in the date column.\n",
    "# with cbook.get_sample_data('goog.npz') as datafile:\n",
    "#     r = np.load(datafile)['price_data'].view(np.recarray)\n",
    "\n",
    "# fig, ax = plt.subplots()\n",
    "# ax.plot(r.date, r.adj_close)\n",
    "\n",
    "# # format the ticks\n",
    "# ax.xaxis.set_major_locator(years)\n",
    "# ax.xaxis.set_major_formatter(yearsFmt)\n",
    "# ax.xaxis.set_minor_locator(months)\n",
    "\n",
    "# # round to nearest years...\n",
    "# datemin = np.datetime64(r.date[0], 'Y')\n",
    "# datemax = np.datetime64(r.date[-1], 'Y') + np.timedelta64(1, 'Y')\n",
    "# ax.set_xlim(datemin, datemax)\n",
    "\n",
    "\n",
    "# # format the coords message box\n",
    "# def price(x):\n",
    "#     return '$%1.2f' % x\n",
    "# ax.format_xdata = mdates.DateFormatter('%Y-%m-%d')\n",
    "# ax.format_ydata = price\n",
    "# ax.grid(True)\n",
    "\n",
    "# # rotates and right aligns the x labels, and moves the bottom of the\n",
    "# # axes up to make room for them\n",
    "# fig.autofmt_xdate()\n",
    "\n",
    "# plt.show()"
   ]
  },
  {
   "cell_type": "code",
   "execution_count": 23,
   "metadata": {},
   "outputs": [],
   "source": [
    "# fig = plt.subplots()\n",
    "\n",
    "# index=list(query_df['date'])\n",
    "# y_data =list(query_df['percipitation'])\n",
    "# # bar_width = 0.2\n",
    "\n",
    "# opacity = 0.5\n",
    "# error_config = {'ecolor': '0.3'}\n",
    "\n",
    "# # r1 = ax.bar(index, query_df['percipitation'], alpha=opacity, color='b', error_kw=error_config)\n",
    "\n",
    "# fig.autofmt_xdate()\n",
    "# ax = query_df.plot(kind='bar', x='date', y='percipitation', color=\"blue\", alpha=1.0, figsize=(12,9), legend=True)\n",
    "\n",
    "# # years = mad.YearLocator()\n",
    "# months = mad.MonthLocator()\n",
    "# # yearFmt = mad.DateFormatter('%Y')\n",
    "\n",
    "# # y_min = query_df['percipitation'].min()\n",
    "# # y_max = query_df['percipitation'].max()\n",
    "\n",
    "# datemin = np.datetime64(list(query_df['date'])[0])\n",
    "# datemax = np.datetime64(list(query_df['date'])[-1])\n",
    "# ax.set_xlim(datemin, datemax)\n",
    "\n",
    "# ax.xaxis.set_major_locator(months)\n",
    "# # ax.xaxis.set_major_formatter(yearFmt)\n",
    "# # ax.xaxis.set_minor_locator(months)\n",
    "\n",
    "# ax.set_ylim((0,4))\n",
    "# ax.set_facecolor('lightslategray')\n",
    "# ax.grid(True, color=\"white\", linestyle=\"--\")\n",
    "# plt.legend(fontsize=14, facecolor=\"lightslategray\")\n",
    "\n",
    "# # ax.format_xdata = mad.DateFormatter('%Y-%m-%d')\n",
    "\n",
    "# plt.show()"
   ]
  },
  {
   "cell_type": "code",
   "execution_count": 24,
   "metadata": {},
   "outputs": [
    {
     "data": {
      "text/plain": [
       "'2017-08-23'"
      ]
     },
     "execution_count": 24,
     "metadata": {},
     "output_type": "execute_result"
    }
   ],
   "source": [
    "list(query_df['date'])[-1]"
   ]
  },
  {
   "cell_type": "code",
   "execution_count": 25,
   "metadata": {},
   "outputs": [
    {
     "data": {
      "text/plain": [
       "'2016-08-23'"
      ]
     },
     "execution_count": 25,
     "metadata": {},
     "output_type": "execute_result"
    }
   ],
   "source": [
    "list(query_df['date'])[0]"
   ]
  },
  {
   "cell_type": "code",
   "execution_count": 26,
   "metadata": {},
   "outputs": [
    {
     "data": {
      "image/png": "[encoded data removed]",
      "text/plain": [
       "<matplotlib.figure.Figure at 0xf633eb8>"
      ]
     },
     "metadata": {},
     "output_type": "display_data"
    }
   ],
   "source": [
    "index=list(query_df['date'])\n",
    "y_data =list(query_df['precipitation'])\n",
    "# bar_width = 0.2\n",
    "\n",
    "opacity = 0.5\n",
    "error_config = {'ecolor': '0.3'}\n",
    "\n",
    "# r1 = ax.bar(index, query_df['percipitation'], alpha=opacity, color='b', error_kw=error_config)\n",
    "\n",
    "# fig.autofmt_xdate()\n",
    "ax = query_df.plot(kind='line', x='date', y='precipitation', color=\"blue\", alpha=1.0, figsize=(12,9), legend=True)\n",
    "\n",
    "# years = mad.YearLocator()\n",
    "# months = mad.MonthLocator()\n",
    "# # yearFmt = mad.DateFormatter('%Y')\n",
    "\n",
    "# # y_min = query_df['percipitation'].min()\n",
    "# # y_max = query_df['percipitation'].max()\n",
    "\n",
    "# datemin = np.datetime64(list(query_df['date'])[0])\n",
    "# datemax = np.datetime64(list(query_df['date'])[-1])\n",
    "# ax.set_xlim(datemin, datemax)\n",
    "\n",
    "# ax.xaxis.set_major_locator(months)\n",
    "# ax.xaxis.set_major_formatter(yearFmt)\n",
    "# ax.xaxis.set_minor_locator(months)\n",
    "\n",
    "ax.set_ylim((0,query_df['precipitation'].max()+0.1))\n",
    "ax.set_facecolor('lightslategray')\n",
    "ax.grid(True, color=\"white\", linestyle=\"--\")\n",
    "plt.xticks(rotation=45)\n",
    "plt.legend(fontsize=14, facecolor=\"lightslategray\")\n",
    "\n",
    "# ax.format_xdata = mad.DateFormatter('%Y-%m-%d')\n",
    "plt.savefig(\"Images/precipitation.png\")\n",
    "\n",
    "plt.show()"
   ]
  },
  {
   "cell_type": "code",
   "execution_count": 27,
   "metadata": {},
   "outputs": [
    {
     "name": "stdout",
     "output_type": "stream",
     "text": [
      "{'25%': 0.0, 'count': 2021, 'max': 6.7000000000000002, '50%': 0.0, 'std': 0.46118950388770352, 'min': 0.0, '75%': 0.01, 'mean': 0.17727857496288968}\n"
     ]
    },
    {
     "data": {
      "image/png": "[encoded data removed]",
      "text/plain": [
       "<matplotlib.figure.Figure at 0xf73de10>"
      ]
     },
     "metadata": {},
     "output_type": "display_data"
    }
   ],
   "source": [
    "from pandas.tools.plotting import table\n",
    "\n",
    "precip_stats = {\n",
    "    \"count\": len(query_df),\n",
    "    \"mean\": query_df['precipitation'].mean(),\n",
    "    \"std\": query_df.std()['precipitation'],\n",
    "    \"min\": query_df['precipitation'].min(),\n",
    "    \"25%\": query_df.sort_values('precipitation')['precipitation'][int((len(query_df)/4)*1)],\n",
    "    \"50%\": query_df.sort_values('precipitation')['precipitation'][int((len(query_df)/4)*2)],\n",
    "    \"75%\": query_df.sort_values('precipitation')['precipitation'][int((len(query_df)/4)*3)],\n",
    "    \"max\": query_df['precipitation'].max()\n",
    "}\n",
    "print(precip_stats)\n",
    "precip_stats_df = pd.DataFrame.from_dict(precip_stats, orient=\"index\").rename(columns={0:\"precipitation\"})\n",
    "\n",
    "ax = plt.subplot(221, frame_on=True) # no visible frame\n",
    "ax.xaxis.set_visible(False)  # hide the x axis\n",
    "ax.yaxis.set_visible(False)  # hide the y axis\n",
    "\n",
    "table(ax, precip_stats_df)  # where df is your data frame\n",
    "\n",
    "plt.savefig('images/precip_stat_table.png')\n",
    "plt.show()"
   ]
  },
  {
   "cell_type": "code",
   "execution_count": 28,
   "metadata": {},
   "outputs": [
    {
     "data": {
      "text/html": [
       "<div>\n",
       "<table border=\"1\" class=\"dataframe\">\n",
       "  <thead>\n",
       "    <tr style=\"text-align: right;\">\n",
       "      <th></th>\n",
       "      <th>station</th>\n",
       "      <th>activity</th>\n",
       "    </tr>\n",
       "  </thead>\n",
       "  <tbody>\n",
       "    <tr>\n",
       "      <th>6</th>\n",
       "      <td>USC00519281</td>\n",
       "      <td>2772</td>\n",
       "    </tr>\n",
       "    <tr>\n",
       "      <th>1</th>\n",
       "      <td>USC00513117</td>\n",
       "      <td>2696</td>\n",
       "    </tr>\n",
       "    <tr>\n",
       "      <th>7</th>\n",
       "      <td>USC00519397</td>\n",
       "      <td>2685</td>\n",
       "    </tr>\n",
       "    <tr>\n",
       "      <th>8</th>\n",
       "      <td>USC00519523</td>\n",
       "      <td>2572</td>\n",
       "    </tr>\n",
       "    <tr>\n",
       "      <th>3</th>\n",
       "      <td>USC00516128</td>\n",
       "      <td>2484</td>\n",
       "    </tr>\n",
       "    <tr>\n",
       "      <th>2</th>\n",
       "      <td>USC00514830</td>\n",
       "      <td>1937</td>\n",
       "    </tr>\n",
       "    <tr>\n",
       "      <th>0</th>\n",
       "      <td>USC00511918</td>\n",
       "      <td>1932</td>\n",
       "    </tr>\n",
       "    <tr>\n",
       "      <th>4</th>\n",
       "      <td>USC00517948</td>\n",
       "      <td>683</td>\n",
       "    </tr>\n",
       "    <tr>\n",
       "      <th>5</th>\n",
       "      <td>USC00518838</td>\n",
       "      <td>342</td>\n",
       "    </tr>\n",
       "  </tbody>\n",
       "</table>\n",
       "</div>"
      ],
      "text/plain": [
       "       station  activity\n",
       "6  USC00519281      2772\n",
       "1  USC00513117      2696\n",
       "7  USC00519397      2685\n",
       "8  USC00519523      2572\n",
       "3  USC00516128      2484\n",
       "2  USC00514830      1937\n",
       "0  USC00511918      1932\n",
       "4  USC00517948       683\n",
       "5  USC00518838       342"
      ]
     },
     "execution_count": 28,
     "metadata": {},
     "output_type": "execute_result"
    }
   ],
   "source": [
    "activity_df = pd.DataFrame(df['station'].groupby(df['station']).count()).rename(columns={'station':'activity'}).reset_index().sort_values('activity',ascending=False)\n",
    "activity_df"
   ]
  },
  {
   "cell_type": "code",
   "execution_count": 29,
   "metadata": {},
   "outputs": [
    {
     "data": {
      "text/html": [
       "<div>\n",
       "<table border=\"1\" class=\"dataframe\">\n",
       "  <thead>\n",
       "    <tr style=\"text-align: right;\">\n",
       "      <th></th>\n",
       "      <th>station</th>\n",
       "      <th>activity</th>\n",
       "      <th>name</th>\n",
       "      <th>latitude</th>\n",
       "      <th>longitude</th>\n",
       "      <th>elevation</th>\n",
       "    </tr>\n",
       "  </thead>\n",
       "  <tbody>\n",
       "    <tr>\n",
       "      <th>0</th>\n",
       "      <td>USC00519281</td>\n",
       "      <td>2772</td>\n",
       "      <td>WAIHEE 837.5, HI US</td>\n",
       "      <td>21.45167</td>\n",
       "      <td>-157.84889</td>\n",
       "      <td>32.9</td>\n",
       "    </tr>\n",
       "    <tr>\n",
       "      <th>1</th>\n",
       "      <td>USC00513117</td>\n",
       "      <td>2696</td>\n",
       "      <td>KANEOHE 838.1, HI US</td>\n",
       "      <td>21.42340</td>\n",
       "      <td>-157.80150</td>\n",
       "      <td>14.6</td>\n",
       "    </tr>\n",
       "    <tr>\n",
       "      <th>2</th>\n",
       "      <td>USC00519397</td>\n",
       "      <td>2685</td>\n",
       "      <td>WAIKIKI 717.2, HI US</td>\n",
       "      <td>21.27160</td>\n",
       "      <td>-157.81680</td>\n",
       "      <td>3.0</td>\n",
       "    </tr>\n",
       "    <tr>\n",
       "      <th>3</th>\n",
       "      <td>USC00519523</td>\n",
       "      <td>2572</td>\n",
       "      <td>WAIMANALO EXPERIMENTAL FARM, HI US</td>\n",
       "      <td>21.33556</td>\n",
       "      <td>-157.71139</td>\n",
       "      <td>19.5</td>\n",
       "    </tr>\n",
       "    <tr>\n",
       "      <th>4</th>\n",
       "      <td>USC00516128</td>\n",
       "      <td>2484</td>\n",
       "      <td>MANOA LYON ARBO 785.2, HI US</td>\n",
       "      <td>21.33310</td>\n",
       "      <td>-157.80250</td>\n",
       "      <td>152.4</td>\n",
       "    </tr>\n",
       "    <tr>\n",
       "      <th>5</th>\n",
       "      <td>USC00514830</td>\n",
       "      <td>1937</td>\n",
       "      <td>KUALOA RANCH HEADQUARTERS 886.9, HI US</td>\n",
       "      <td>21.52130</td>\n",
       "      <td>-157.83740</td>\n",
       "      <td>7.0</td>\n",
       "    </tr>\n",
       "    <tr>\n",
       "      <th>6</th>\n",
       "      <td>USC00511918</td>\n",
       "      <td>1932</td>\n",
       "      <td>HONOLULU OBSERVATORY 702.2, HI US</td>\n",
       "      <td>21.31520</td>\n",
       "      <td>-157.99920</td>\n",
       "      <td>0.9</td>\n",
       "    </tr>\n",
       "    <tr>\n",
       "      <th>7</th>\n",
       "      <td>USC00517948</td>\n",
       "      <td>683</td>\n",
       "      <td>PEARL CITY, HI US</td>\n",
       "      <td>21.39340</td>\n",
       "      <td>-157.97510</td>\n",
       "      <td>11.9</td>\n",
       "    </tr>\n",
       "    <tr>\n",
       "      <th>8</th>\n",
       "      <td>USC00518838</td>\n",
       "      <td>342</td>\n",
       "      <td>UPPER WAHIAWA 874.3, HI US</td>\n",
       "      <td>21.49920</td>\n",
       "      <td>-158.01110</td>\n",
       "      <td>306.6</td>\n",
       "    </tr>\n",
       "  </tbody>\n",
       "</table>\n",
       "</div>"
      ],
      "text/plain": [
       "       station  activity                                    name  latitude  \\\n",
       "0  USC00519281      2772                     WAIHEE 837.5, HI US  21.45167   \n",
       "1  USC00513117      2696                    KANEOHE 838.1, HI US  21.42340   \n",
       "2  USC00519397      2685                    WAIKIKI 717.2, HI US  21.27160   \n",
       "3  USC00519523      2572      WAIMANALO EXPERIMENTAL FARM, HI US  21.33556   \n",
       "4  USC00516128      2484            MANOA LYON ARBO 785.2, HI US  21.33310   \n",
       "5  USC00514830      1937  KUALOA RANCH HEADQUARTERS 886.9, HI US  21.52130   \n",
       "6  USC00511918      1932       HONOLULU OBSERVATORY 702.2, HI US  21.31520   \n",
       "7  USC00517948       683                       PEARL CITY, HI US  21.39340   \n",
       "8  USC00518838       342              UPPER WAHIAWA 874.3, HI US  21.49920   \n",
       "\n",
       "   longitude  elevation  \n",
       "0 -157.84889       32.9  \n",
       "1 -157.80150       14.6  \n",
       "2 -157.81680        3.0  \n",
       "3 -157.71139       19.5  \n",
       "4 -157.80250      152.4  \n",
       "5 -157.83740        7.0  \n",
       "6 -157.99920        0.9  \n",
       "7 -157.97510       11.9  \n",
       "8 -158.01110      306.6  "
      ]
     },
     "execution_count": 29,
     "metadata": {},
     "output_type": "execute_result"
    }
   ],
   "source": [
    "station_df = pd.read_sql(con=connection, index_col='id',sql=Station.__tablename__)\n",
    "station_df\n",
    "mdf = pd.merge(activity_df, station_df, on='station', how='left')\n",
    "mdf"
   ]
  },
  {
   "cell_type": "code",
   "execution_count": 30,
   "metadata": {},
   "outputs": [
    {
     "name": "stdout",
     "output_type": "stream",
     "text": [
      "station WAIHEE 837.5, HI US had the highest activity rate at 2772\n"
     ]
    }
   ],
   "source": [
    "print(\"station {} had the highest activity rate at {}\".format(mdf['name'][0], mdf['activity'][0]))"
   ]
  },
  {
   "cell_type": "code",
   "execution_count": 31,
   "metadata": {},
   "outputs": [
    {
     "name": "stdout",
     "output_type": "stream",
     "text": [
      "USC00519397 2016-08-23 81\n",
      "USC00519397 2016-08-24 79\n",
      "USC00519397 2016-08-25 80\n",
      "USC00519397 2016-08-26 79\n",
      "USC00519397 2016-08-27 77\n",
      "USC00519397 2016-08-28 78\n",
      "USC00519397 2016-08-29 78\n",
      "USC00519397 2016-08-30 79\n",
      "USC00519397 2016-08-31 80\n",
      "USC00519397 2016-09-01 81\n"
     ]
    }
   ],
   "source": [
    "last12_query_tob_obj = session.query(Measurement.station, Measurement.date, Measurement.temperature).filter(Measurement.date >= year_recent)\n",
    "for row in last12_query_tob_obj[:10]:\n",
    "    print (\"{} {} {}\".format(row.station, row.date, row.temperature))"
   ]
  },
  {
   "cell_type": "code",
   "execution_count": 32,
   "metadata": {},
   "outputs": [
    {
     "data": {
      "text/html": [
       "<div>\n",
       "<table border=\"1\" class=\"dataframe\">\n",
       "  <thead>\n",
       "    <tr style=\"text-align: right;\">\n",
       "      <th></th>\n",
       "      <th>station</th>\n",
       "      <th>date</th>\n",
       "      <th>temperature</th>\n",
       "    </tr>\n",
       "  </thead>\n",
       "  <tbody>\n",
       "    <tr>\n",
       "      <th>0</th>\n",
       "      <td>USC00519397</td>\n",
       "      <td>2016-08-23</td>\n",
       "      <td>81</td>\n",
       "    </tr>\n",
       "    <tr>\n",
       "      <th>1</th>\n",
       "      <td>USC00519397</td>\n",
       "      <td>2016-08-24</td>\n",
       "      <td>79</td>\n",
       "    </tr>\n",
       "    <tr>\n",
       "      <th>2</th>\n",
       "      <td>USC00519397</td>\n",
       "      <td>2016-08-25</td>\n",
       "      <td>80</td>\n",
       "    </tr>\n",
       "    <tr>\n",
       "      <th>3</th>\n",
       "      <td>USC00519397</td>\n",
       "      <td>2016-08-26</td>\n",
       "      <td>79</td>\n",
       "    </tr>\n",
       "    <tr>\n",
       "      <th>4</th>\n",
       "      <td>USC00519397</td>\n",
       "      <td>2016-08-27</td>\n",
       "      <td>77</td>\n",
       "    </tr>\n",
       "  </tbody>\n",
       "</table>\n",
       "</div>"
      ],
      "text/plain": [
       "       station        date  temperature\n",
       "0  USC00519397  2016-08-23           81\n",
       "1  USC00519397  2016-08-24           79\n",
       "2  USC00519397  2016-08-25           80\n",
       "3  USC00519397  2016-08-26           79\n",
       "4  USC00519397  2016-08-27           77"
      ]
     },
     "execution_count": 32,
     "metadata": {},
     "output_type": "execute_result"
    }
   ],
   "source": [
    "temp_query_df = pd.read_sql_query(last12_query_tob_obj.statement, last12_query_tob_obj.session.bind)\n",
    "temp_query_df.head()"
   ]
  },
  {
   "cell_type": "code",
   "execution_count": 34,
   "metadata": {},
   "outputs": [
    {
     "data": {
      "text/html": [
       "<div>\n",
       "<table border=\"1\" class=\"dataframe\">\n",
       "  <thead>\n",
       "    <tr style=\"text-align: right;\">\n",
       "      <th></th>\n",
       "      <th>station</th>\n",
       "      <th>date</th>\n",
       "      <th>precipitation</th>\n",
       "      <th>temperature</th>\n",
       "    </tr>\n",
       "    <tr>\n",
       "      <th>id</th>\n",
       "      <th></th>\n",
       "      <th></th>\n",
       "      <th></th>\n",
       "      <th></th>\n",
       "    </tr>\n",
       "  </thead>\n",
       "  <tbody>\n",
       "    <tr>\n",
       "      <th>13687</th>\n",
       "      <td>USC00511918</td>\n",
       "      <td>2010-01-01</td>\n",
       "      <td>0.05</td>\n",
       "      <td>66</td>\n",
       "    </tr>\n",
       "    <tr>\n",
       "      <th>13688</th>\n",
       "      <td>USC00511918</td>\n",
       "      <td>2010-01-02</td>\n",
       "      <td>0.00</td>\n",
       "      <td>70</td>\n",
       "    </tr>\n",
       "    <tr>\n",
       "      <th>13689</th>\n",
       "      <td>USC00511918</td>\n",
       "      <td>2010-01-03</td>\n",
       "      <td>0.00</td>\n",
       "      <td>75</td>\n",
       "    </tr>\n",
       "    <tr>\n",
       "      <th>13690</th>\n",
       "      <td>USC00511918</td>\n",
       "      <td>2010-01-04</td>\n",
       "      <td>0.00</td>\n",
       "      <td>75</td>\n",
       "    </tr>\n",
       "    <tr>\n",
       "      <th>13691</th>\n",
       "      <td>USC00511918</td>\n",
       "      <td>2010-01-05</td>\n",
       "      <td>0.00</td>\n",
       "      <td>75</td>\n",
       "    </tr>\n",
       "  </tbody>\n",
       "</table>\n",
       "</div>"
      ],
      "text/plain": [
       "           station        date  precipitation  temperature\n",
       "id                                                        \n",
       "13687  USC00511918  2010-01-01           0.05           66\n",
       "13688  USC00511918  2010-01-02           0.00           70\n",
       "13689  USC00511918  2010-01-03           0.00           75\n",
       "13690  USC00511918  2010-01-04           0.00           75\n",
       "13691  USC00511918  2010-01-05           0.00           75"
      ]
     },
     "execution_count": 34,
     "metadata": {},
     "output_type": "execute_result"
    }
   ],
   "source": [
    "high = activity_df['station'][0]\n",
    "only_active = df.loc[df['station'] == high,:]\n",
    "only_active.head()"
   ]
  },
  {
   "cell_type": "code",
   "execution_count": 35,
   "metadata": {},
   "outputs": [
    {
     "data": {
      "image/png": "[encoded data removed]",
      "text/plain": [
       "<matplotlib.figure.Figure at 0xca89550>"
      ]
     },
     "metadata": {},
     "output_type": "display_data"
    }
   ],
   "source": [
    "plt.hist(only_active['temperature'], bins=12)\n",
    "plt.show()"
   ]
  },
  {
   "cell_type": "code",
   "execution_count": 36,
   "metadata": {},
   "outputs": [
    {
     "name": "stdout",
     "output_type": "stream",
     "text": [
      "Type date (year-month-day): 2014-05-23\n",
      "You typed 2014-05-23\n",
      "analysis time is set for 2013-05-23\n"
     ]
    }
   ],
   "source": [
    "input_date = input(\"Type date (year-month-day): \")\n",
    "print (\"You typed {}\".format(input_date))\n",
    "input_dt = datetime.strptime(input_date, \"%Y-%m-%d\")\n",
    "yearago_dt = input_dt.replace(year=input_dt.year - 1)\n",
    "\n",
    "year_ago = yearago_dt.strftime(\"%Y-%m-%d\")\n",
    "print (\"analysis time is set for {}\".format(year_ago))"
   ]
  },
  {
   "cell_type": "code",
   "execution_count": 41,
   "metadata": {},
   "outputs": [
    {
     "name": "stdout",
     "output_type": "stream",
     "text": [
      "USC00519397 2013-05-23 79\n",
      "USC00519397 2013-05-24 79\n",
      "USC00519397 2013-05-25 77\n",
      "USC00519397 2013-05-26 77\n",
      "USC00519397 2013-05-27 78\n",
      "USC00519397 2013-05-28 77\n",
      "USC00519397 2013-05-29 78\n",
      "USC00519397 2013-05-30 77\n",
      "USC00519397 2013-05-31 79\n",
      "USC00519397 2013-06-01 79\n"
     ]
    }
   ],
   "source": [
    "query_obj = session.query(Measurement.station, Measurement.date, Measurement.temperature).filter(Measurement.date >= year_ago, Measurement.date <= input_date)\n",
    "for row in query_obj[:10]:\n",
    "    print (\"{} {} {}\".format(row.station, row.date, row.temperature))"
   ]
  },
  {
   "cell_type": "code",
   "execution_count": 42,
   "metadata": {},
   "outputs": [
    {
     "data": {
      "text/html": [
       "<div>\n",
       "<table border=\"1\" class=\"dataframe\">\n",
       "  <thead>\n",
       "    <tr style=\"text-align: right;\">\n",
       "      <th></th>\n",
       "      <th>station</th>\n",
       "      <th>date</th>\n",
       "      <th>temperature</th>\n",
       "    </tr>\n",
       "  </thead>\n",
       "  <tbody>\n",
       "    <tr>\n",
       "      <th>0</th>\n",
       "      <td>USC00519397</td>\n",
       "      <td>2013-05-23</td>\n",
       "      <td>79</td>\n",
       "    </tr>\n",
       "    <tr>\n",
       "      <th>1</th>\n",
       "      <td>USC00519397</td>\n",
       "      <td>2013-05-24</td>\n",
       "      <td>79</td>\n",
       "    </tr>\n",
       "    <tr>\n",
       "      <th>2</th>\n",
       "      <td>USC00519397</td>\n",
       "      <td>2013-05-25</td>\n",
       "      <td>77</td>\n",
       "    </tr>\n",
       "    <tr>\n",
       "      <th>3</th>\n",
       "      <td>USC00519397</td>\n",
       "      <td>2013-05-26</td>\n",
       "      <td>77</td>\n",
       "    </tr>\n",
       "    <tr>\n",
       "      <th>4</th>\n",
       "      <td>USC00519397</td>\n",
       "      <td>2013-05-27</td>\n",
       "      <td>78</td>\n",
       "    </tr>\n",
       "  </tbody>\n",
       "</table>\n",
       "</div>"
      ],
      "text/plain": [
       "       station        date  temperature\n",
       "0  USC00519397  2013-05-23           79\n",
       "1  USC00519397  2013-05-24           79\n",
       "2  USC00519397  2013-05-25           77\n",
       "3  USC00519397  2013-05-26           77\n",
       "4  USC00519397  2013-05-27           78"
      ]
     },
     "execution_count": 42,
     "metadata": {},
     "output_type": "execute_result"
    }
   ],
   "source": [
    "new_query_df = pd.read_sql_query(query_obj.statement, query_obj.session.bind)\n",
    "new_query_df.head()"
   ]
  },
  {
   "cell_type": "code",
   "execution_count": 82,
   "metadata": {},
   "outputs": [
    {
     "data": {
      "image/png": "[encoded data removed]",
      "text/plain": [
       "<matplotlib.figure.Figure at 0xfd43160>"
      ]
     },
     "metadata": {},
     "output_type": "display_data"
    }
   ],
   "source": [
    "dates = [input_date]\n",
    "x_pos = np.arange(len(dates))\n",
    "temp_mean = new_query_df['temperature'].mean()\n",
    "temp_std = new_query_df['temperature'].std()\n",
    "width=0.2\n",
    "linewidth=0.1\n",
    "fig, ax = plt.subplots()\n",
    "ax.bar(x_pos, temp_mean, yerr=temp_std, align='center', width=width, linewidth=linewidth, alpha=0.5, ecolor='black', capsize=10)\n",
    "ax.set_xticks(x_pos)\n",
    "ax.set_xticklabels(dates)\n",
    "ax.set_ylabel('Temperature (degree F)')\n",
    "ax.set_title('Hawaii temperature analysis ' + year_ago+' -- '+input_date)\n",
    "ax.yaxis.grid(True)\n",
    "\n",
    "# Save the figure and show\n",
    "plt.tight_layout()\n",
    "plt.savefig('images/bar_plot_with_error_bars.png')\n",
    "plt.show()"
   ]
  },
  {
   "cell_type": "code",
   "execution_count": 56,
   "metadata": {},
   "outputs": [
    {
     "data": {
      "text/plain": [
       "72.744931062449311"
      ]
     },
     "execution_count": 56,
     "metadata": {},
     "output_type": "execute_result"
    }
   ],
   "source": [
    "new_query_df['temperature'].mean()"
   ]
  },
  {
   "cell_type": "code",
   "execution_count": null,
   "metadata": {},
   "outputs": [],
   "source": [
    "session.commit()\n",
    "session.close()"
   ]
  }
 ],
 "metadata": {
  "kernelspec": {
   "display_name": "Python (pythondata)",
   "language": "python",
   "name": "pythondata"
  },
  "language_info": {
   "codemirror_mode": {
    "name": "ipython",
    "version": 3
   },
   "file_extension": ".py",
   "mimetype": "text/x-python",
   "name": "python",
   "nbconvert_exporter": "python",
   "pygments_lexer": "ipython3",
   "version": "3.4.5"
  }
 },
 "nbformat": 4,
 "nbformat_minor": 2
}
